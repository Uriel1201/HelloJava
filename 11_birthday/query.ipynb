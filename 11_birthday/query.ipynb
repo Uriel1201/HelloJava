{
  "nbformat": 4,
  "nbformat_minor": 0,
  "metadata": {
    "colab": {
      "provenance": [],
      "authorship_tag": "ABX9TyMFn8bPUUWtfwHn7JHFYHLt",
      "include_colab_link": true
    },
    "kernelspec": {
      "name": "python3",
      "display_name": "Python 3"
    },
    "language_info": {
      "name": "python"
    }
  },
  "cells": [
    {
      "cell_type": "markdown",
      "metadata": {
        "id": "view-in-github",
        "colab_type": "text"
      },
      "source": [
        "<a href=\"https://colab.research.google.com/github/Uriel1201/HelloJava/blob/main/11_birthday/query.ipynb\" target=\"_parent\"><img src=\"https://colab.research.google.com/assets/colab-badge.svg\" alt=\"Open In Colab\"/></a>"
      ]
    },
    {
      "cell_type": "markdown",
      "source": [
        "#11. Birthday Attendance.\n",
        "\n",
        "**Writing a query to return the fraction of students,\n",
        "rounded to two decimal places, who\n",
        "attended school on their birthday.**"
      ],
      "metadata": {
        "id": "xrN8JHU4r5KS"
      }
    },
    {
      "cell_type": "code",
      "source": [
        "!pip install polars\n",
        "import pandas as pd\n",
        "import numpy as  np\n",
        "import polars as pl"
      ],
      "metadata": {
        "colab": {
          "base_uri": "https://localhost:8080/"
        },
        "id": "jPc6B9IXr5dY",
        "outputId": "c99c9e0b-1803-4f0a-df62-c8a57b5c95b6"
      },
      "execution_count": 1,
      "outputs": [
        {
          "output_type": "stream",
          "name": "stdout",
          "text": [
            "Requirement already satisfied: polars in /usr/local/lib/python3.11/dist-packages (1.21.0)\n"
          ]
        }
      ]
    },
    {
      "cell_type": "code",
      "source": [
        "data1 = {'student_id'    : [1,2,3,1,2,3,1,2,3,4],\n",
        "        'school_date'    : ['03-APR-20',\n",
        "                         '03-APR-20',\n",
        "                         '03-APR-20',\n",
        "                         '04-APR-20',\n",
        "                         '04-APR-20',\n",
        "                         '04-APR-20',\n",
        "                         '05-APR-20',\n",
        "                         '05-APR-20',\n",
        "                         '05-APR-20',\n",
        "                         '05-APR-20'],\n",
        "         'attendance'    : [0,1,1,1,1,1,0,1,1,1]\n",
        "        }\n",
        "\n",
        "data2 = {'student_id'    : [1,2,3,4],\n",
        "         'school_id'     : [2,1,1,2],\n",
        "         'grade'         : [5,4,3,4],\n",
        "         'date_birth'    : ['03-APR-12',\n",
        "                         '04-APR-13',\n",
        "                         '05-APR-14',\n",
        "                         '03-APR-13']\n",
        "        }\n",
        "pd_attendance  = pd.DataFrame(data1)\n",
        "pd_students    = pd.DataFrame(data2)\n",
        "pl_attendance  = pl.LazyFrame(data1)\n",
        "pl_students    = pl.LazyFrame(data2)\n",
        "\n",
        "pd_attendance['school_date']=(pd.to_datetime(pd_attendance['school_date'],\n",
        "                                             format=\"%d-%b-%y\"\n",
        "                                 )\n",
        ")\n",
        "pd_students['date_birth']=(pd.to_datetime(pd_students['date_birth'],\n",
        "                                          format=\"%d-%b-%y\"\n",
        "                              )\n",
        ")\n",
        "pl_attendance=(pl_attendance.with_columns(pl.col('school_date')\n",
        "                                            .str\n",
        "                                            .strptime(pl.Date,\n",
        "                                                      format=\"%d-%b-%y\"\n",
        "                                             )\n",
        "                             )\n",
        ")\n",
        "pl_students=(pl_students.with_columns(pl.col('date_birth')\n",
        "                                        .str\n",
        "                                        .strptime(pl.Date,\n",
        "                                                  format=\"%d-%b-%y\"\n",
        "                                         )\n",
        "                         )\n",
        ")"
      ],
      "metadata": {
        "id": "Qk6Pt-Yqr5ni"
      },
      "execution_count": 3,
      "outputs": []
    },
    {
      "cell_type": "code",
      "source": [
        "print(f'----PANDAS----\\nattendance table:\\n{pd_attendance}')"
      ],
      "metadata": {
        "colab": {
          "base_uri": "https://localhost:8080/"
        },
        "id": "Ul0PcTjRr53f",
        "outputId": "4f6fa8f7-8149-42b0-839b-f6ea972c09f4"
      },
      "execution_count": 4,
      "outputs": [
        {
          "output_type": "stream",
          "name": "stdout",
          "text": [
            "----PANDAS----\n",
            "attendance table:\n",
            "   student_id school_date  attendance\n",
            "0           1  2020-04-03           0\n",
            "1           2  2020-04-03           1\n",
            "2           3  2020-04-03           1\n",
            "3           1  2020-04-04           1\n",
            "4           2  2020-04-04           1\n",
            "5           3  2020-04-04           1\n",
            "6           1  2020-04-05           0\n",
            "7           2  2020-04-05           1\n",
            "8           3  2020-04-05           1\n",
            "9           4  2020-04-05           1\n"
          ]
        }
      ]
    },
    {
      "cell_type": "code",
      "source": [
        "print(f'students table:\\n{pd_students}')"
      ],
      "metadata": {
        "colab": {
          "base_uri": "https://localhost:8080/"
        },
        "id": "lp7Fk5zEr6bk",
        "outputId": "fc812ae8-262e-42eb-f3ee-a6a20cd3486d"
      },
      "execution_count": 5,
      "outputs": [
        {
          "output_type": "stream",
          "name": "stdout",
          "text": [
            "students table:\n",
            "   student_id  school_id  grade date_birth\n",
            "0           1          2      5 2012-04-03\n",
            "1           2          1      4 2013-04-04\n",
            "2           3          1      3 2014-04-05\n",
            "3           4          2      4 2013-04-03\n"
          ]
        }
      ]
    },
    {
      "cell_type": "code",
      "source": [
        "pd_df1=(pd_students['student_id'].to_frame()\n",
        "                                      .assign(day=pd_students['date_birth'].dt\n",
        "                                                                           .day,\n",
        "                                              month=pd_students['date_birth'].dt\n",
        "                                                                             .month\n",
        "                                       )\n",
        ")\n",
        "print(f'Identifying birthday only by month and day:\\n{pd_df1}')"
      ],
      "metadata": {
        "id": "5sHxx75zr6na",
        "colab": {
          "base_uri": "https://localhost:8080/"
        },
        "outputId": "f967b7c7-9dee-4e4a-85c8-b0a9cb09a289"
      },
      "execution_count": 6,
      "outputs": [
        {
          "output_type": "stream",
          "name": "stdout",
          "text": [
            "Identifying birthday only by month and day:\n",
            "   student_id  day  month\n",
            "0           1    3      4\n",
            "1           2    4      4\n",
            "2           3    5      4\n",
            "3           4    3      4\n"
          ]
        }
      ]
    },
    {
      "cell_type": "code",
      "source": [
        "pd_df2=(pd_attendance[['student_id','attendance']].assign(day=pd_attendance['school_date'].dt.day,\n",
        "                                                          month=pd_attendance['school_date'].dt.month\n",
        "                                                   )\n",
        ")\n",
        "print(f'identifying attendance only by month and day:\\n{pd_df2}')"
      ],
      "metadata": {
        "id": "T90A10otr6x-",
        "colab": {
          "base_uri": "https://localhost:8080/"
        },
        "outputId": "b8d94f03-37d4-48f6-bf86-16510d0bc5cc"
      },
      "execution_count": 7,
      "outputs": [
        {
          "output_type": "stream",
          "name": "stdout",
          "text": [
            "identifying attendance only by month and day:\n",
            "   student_id  attendance  day  month\n",
            "0           1           0    3      4\n",
            "1           2           1    3      4\n",
            "2           3           1    3      4\n",
            "3           1           1    4      4\n",
            "4           2           1    4      4\n",
            "5           3           1    4      4\n",
            "6           1           0    5      4\n",
            "7           2           1    5      4\n",
            "8           3           1    5      4\n",
            "9           4           1    5      4\n"
          ]
        }
      ]
    },
    {
      "cell_type": "code",
      "source": [
        "pd_birthday=(pd.merge(pd_df1,\n",
        "                      pd_df2,\n",
        "                      on=['student_id','day','month'],\n",
        "                      how='left'\n",
        "                )\n",
        ")\n",
        "fraction=round(pd_birthday['attendance'].mean()\n",
        "               ,2\n",
        "         )\n",
        "print(f'{pd_birthday}\\nfraction of birthday attendance:\\n{fraction}')"
      ],
      "metadata": {
        "id": "L_lmmYLjr7PA",
        "colab": {
          "base_uri": "https://localhost:8080/"
        },
        "outputId": "c5af667e-e858-4ae7-c81c-28951c5d24e1"
      },
      "execution_count": 8,
      "outputs": [
        {
          "output_type": "stream",
          "name": "stdout",
          "text": [
            "   student_id  day  month  attendance\n",
            "0           1    3      4         0.0\n",
            "1           2    4      4         1.0\n",
            "2           3    5      4         1.0\n",
            "3           4    3      4         NaN\n",
            "fraction of birthday attendance:\n",
            "0.67\n"
          ]
        }
      ]
    },
    {
      "cell_type": "code",
      "source": [
        "sample1=pl_attendance.head(5)\n",
        "sample2=pl_students.head(5)\n",
        "print(f'----POLARS----\\nattendance table (SAMPLE):\\n{sample1.collect()}')"
      ],
      "metadata": {
        "id": "aTwQsC6Rr7oT",
        "colab": {
          "base_uri": "https://localhost:8080/"
        },
        "outputId": "89f58a1f-24d7-41a0-8c0a-b076a6757bd7"
      },
      "execution_count": 9,
      "outputs": [
        {
          "output_type": "stream",
          "name": "stdout",
          "text": [
            "----POLARS----\n",
            "attendance table (SAMPLE):\n",
            "shape: (5, 3)\n",
            "┌────────────┬─────────────┬────────────┐\n",
            "│ student_id ┆ school_date ┆ attendance │\n",
            "│ ---        ┆ ---         ┆ ---        │\n",
            "│ i64        ┆ date        ┆ i64        │\n",
            "╞════════════╪═════════════╪════════════╡\n",
            "│ 1          ┆ 2020-04-03  ┆ 0          │\n",
            "│ 2          ┆ 2020-04-03  ┆ 1          │\n",
            "│ 3          ┆ 2020-04-03  ┆ 1          │\n",
            "│ 1          ┆ 2020-04-04  ┆ 1          │\n",
            "│ 2          ┆ 2020-04-04  ┆ 1          │\n",
            "└────────────┴─────────────┴────────────┘\n"
          ]
        }
      ]
    },
    {
      "cell_type": "code",
      "source": [
        "print(f'students table (SAMPLE):\\n{sample2.collect()}')"
      ],
      "metadata": {
        "id": "BfandwoOr8Be",
        "colab": {
          "base_uri": "https://localhost:8080/"
        },
        "outputId": "0bfb5cce-2120-4856-bd30-7150abe70f66"
      },
      "execution_count": 10,
      "outputs": [
        {
          "output_type": "stream",
          "name": "stdout",
          "text": [
            "students table (SAMPLE):\n",
            "shape: (4, 4)\n",
            "┌────────────┬───────────┬───────┬────────────┐\n",
            "│ student_id ┆ school_id ┆ grade ┆ date_birth │\n",
            "│ ---        ┆ ---       ┆ ---   ┆ ---        │\n",
            "│ i64        ┆ i64       ┆ i64   ┆ date       │\n",
            "╞════════════╪═══════════╪═══════╪════════════╡\n",
            "│ 1          ┆ 2         ┆ 5     ┆ 2012-04-03 │\n",
            "│ 2          ┆ 1         ┆ 4     ┆ 2013-04-04 │\n",
            "│ 3          ┆ 1         ┆ 3     ┆ 2014-04-05 │\n",
            "│ 4          ┆ 2         ┆ 4     ┆ 2013-04-03 │\n",
            "└────────────┴───────────┴───────┴────────────┘\n"
          ]
        }
      ]
    },
    {
      "cell_type": "code",
      "source": [
        "pl_lf1=(sample1.select(pl.col('student_id')\n",
        "                       ,pl.col('attendance')\n",
        "                       ,pl.col('school_date')\n",
        "                )\n",
        "               .with_columns(birthday_day=pl.col('school_date')\n",
        "                                            .dt\n",
        "                                            .day(),\n",
        "                             birthday_month=pl.col('school_date')\n",
        "                                              .dt\n",
        "                                              .month()\n",
        "                  )\n",
        ").collect()\n",
        "print(f'Identifying attendance only by month and day:\\n{pl_lf1}')"
      ],
      "metadata": {
        "id": "MYiDsdaGr9G_",
        "colab": {
          "base_uri": "https://localhost:8080/"
        },
        "outputId": "7e80710c-1559-498b-d242-4f306a0a73f8"
      },
      "execution_count": 11,
      "outputs": [
        {
          "output_type": "stream",
          "name": "stdout",
          "text": [
            "Identifying attendance only by month and day:\n",
            "shape: (5, 5)\n",
            "┌────────────┬────────────┬─────────────┬──────────────┬────────────────┐\n",
            "│ student_id ┆ attendance ┆ school_date ┆ birthday_day ┆ birthday_month │\n",
            "│ ---        ┆ ---        ┆ ---         ┆ ---          ┆ ---            │\n",
            "│ i64        ┆ i64        ┆ date        ┆ i8           ┆ i8             │\n",
            "╞════════════╪════════════╪═════════════╪══════════════╪════════════════╡\n",
            "│ 1          ┆ 0          ┆ 2020-04-03  ┆ 3            ┆ 4              │\n",
            "│ 2          ┆ 1          ┆ 2020-04-03  ┆ 3            ┆ 4              │\n",
            "│ 3          ┆ 1          ┆ 2020-04-03  ┆ 3            ┆ 4              │\n",
            "│ 1          ┆ 1          ┆ 2020-04-04  ┆ 4            ┆ 4              │\n",
            "│ 2          ┆ 1          ┆ 2020-04-04  ┆ 4            ┆ 4              │\n",
            "└────────────┴────────────┴─────────────┴──────────────┴────────────────┘\n"
          ]
        }
      ]
    },
    {
      "cell_type": "code",
      "source": [
        "pl_lf2=(sample2.select(pl.col('student_id')\n",
        "                       ,pl.col('date_birth')\n",
        "                )\n",
        "               .with_columns(birthday_day=pl.col('date_birth')\n",
        "                                            .dt\n",
        "                                            .day(),\n",
        "                             birthday_month=pl.col('date_birth')\n",
        "                                              .dt\n",
        "                                              .month()\n",
        "                )\n",
        ").collect()\n",
        "print(f'Identifying birthday only by month and day:\\n{pl_lf2}')"
      ],
      "metadata": {
        "id": "XFbgFe_Nr9xZ",
        "colab": {
          "base_uri": "https://localhost:8080/"
        },
        "outputId": "8a9662b5-c381-4c0f-fa17-cb1314b842b4"
      },
      "execution_count": 12,
      "outputs": [
        {
          "output_type": "stream",
          "name": "stdout",
          "text": [
            "Identifying birthday only by month and day:\n",
            "shape: (4, 4)\n",
            "┌────────────┬────────────┬──────────────┬────────────────┐\n",
            "│ student_id ┆ date_birth ┆ birthday_day ┆ birthday_month │\n",
            "│ ---        ┆ ---        ┆ ---          ┆ ---            │\n",
            "│ i64        ┆ date       ┆ i8           ┆ i8             │\n",
            "╞════════════╪════════════╪══════════════╪════════════════╡\n",
            "│ 1          ┆ 2012-04-03 ┆ 3            ┆ 4              │\n",
            "│ 2          ┆ 2013-04-04 ┆ 4            ┆ 4              │\n",
            "│ 3          ┆ 2014-04-05 ┆ 5            ┆ 4              │\n",
            "│ 4          ┆ 2013-04-03 ┆ 3            ┆ 4              │\n",
            "└────────────┴────────────┴──────────────┴────────────────┘\n"
          ]
        }
      ]
    },
    {
      "cell_type": "code",
      "source": [
        "pl_birthday=(pl_attendance.select(pl.col('student_id')\n",
        "                                         ,pl.col('attendance')\n",
        "                                         ,pl.col('school_date')\n",
        "                           )\n",
        "                          .with_columns(birthday_day=pl.col('school_date')\n",
        "                                                       .dt\n",
        "                                                       .day(),\n",
        "                                        birthday_month=pl.col('school_date')\n",
        "                                                         .dt\n",
        "                                                         .month()\n",
        "                           )\n",
        "                          .join(pl_students.select(pl.col('student_id')\n",
        "                                                   ,pl.col('date_birth')\n",
        "                                            )\n",
        "                                           .with_columns(birthday_day=pl.col('date_birth')\n",
        "                                                                        .dt\n",
        "                                                                        .day(),\n",
        "                                                         birthday_month=pl.col('date_birth')\n",
        "                                                                          .dt\n",
        "                                                                          .month()\n",
        "                                            ),\n",
        "                                on=['student_id','birthday_day','birthday_month'],\n",
        "                                how='right'\n",
        "                           )\n",
        "                          .select(pl.col('student_id')\n",
        "                                  ,pl.col('attendance')\n",
        "                           )\n",
        ").collect()\n",
        "fraction=(pl_birthday.select(pl.col('attendance')\n",
        "                               .mean()\n",
        "                               .round(2)\n",
        "                      )\n",
        ")\n",
        "print(f'{pl_birthday.head(5)}\\nfraction of attendances in birthday dates:\\n{fraction}')"
      ],
      "metadata": {
        "id": "NrF3RuN1klcE",
        "colab": {
          "base_uri": "https://localhost:8080/"
        },
        "outputId": "be5dd5b6-60b6-4071-9c40-3ab182088477"
      },
      "execution_count": 13,
      "outputs": [
        {
          "output_type": "stream",
          "name": "stdout",
          "text": [
            "shape: (4, 2)\n",
            "┌────────────┬────────────┐\n",
            "│ student_id ┆ attendance │\n",
            "│ ---        ┆ ---        │\n",
            "│ i64        ┆ i64        │\n",
            "╞════════════╪════════════╡\n",
            "│ 1          ┆ 0          │\n",
            "│ 2          ┆ 1          │\n",
            "│ 3          ┆ 1          │\n",
            "│ 4          ┆ null       │\n",
            "└────────────┴────────────┘\n",
            "fraction of attendances in birthday dates:\n",
            "shape: (1, 1)\n",
            "┌────────────┐\n",
            "│ attendance │\n",
            "│ ---        │\n",
            "│ f64        │\n",
            "╞════════════╡\n",
            "│ 0.67       │\n",
            "└────────────┘\n"
          ]
        }
      ]
    }
  ]
}